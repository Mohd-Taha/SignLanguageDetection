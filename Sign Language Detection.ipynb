{
 "cells": [
  {
   "cell_type": "markdown",
   "metadata": {},
   "source": [
    "Resources Used\n",
    "- wget.download('https://tensorflow-object-detection-api-tutorial.readthedocs.io/en/latest/_downloads/da4babe668a8afb093cc7776d7e630f3/generate_tfrecord.py')\n",
    "- Setup https://tensorflow-object-detection-api-tutorial.readthedocs.io/en/latest/install.html"
   ]
  },
  {
   "cell_type": "markdown",
   "metadata": {},
   "source": [
    "# 0. Setup Paths"
   ]
  },
  {
   "cell_type": "code",
   "execution_count": 5,
   "metadata": {},
   "outputs": [
    {
     "name": "stdout",
     "output_type": "stream",
     "text": [
      "Defaulting to user installation because normal site-packages is not writeable\n",
      "Collecting pandas\n",
      "  Downloading pandas-1.4.2-cp310-cp310-win_amd64.whl (10.6 MB)\n",
      "     -------------------------------------- 10.6/10.6 MB 739.6 kB/s eta 0:00:00\n",
      "Requirement already satisfied: numpy>=1.21.0 in c:\\program files\\python310\\lib\\site-packages (from pandas) (1.22.2)\n",
      "Collecting pytz>=2020.1\n",
      "  Downloading pytz-2022.1-py2.py3-none-any.whl (503 kB)\n",
      "     -------------------------------------- 503.5/503.5 KB 1.0 MB/s eta 0:00:00\n",
      "Requirement already satisfied: python-dateutil>=2.8.1 in c:\\program files\\python310\\lib\\site-packages (from pandas) (2.8.2)\n",
      "Requirement already satisfied: six>=1.5 in c:\\program files\\python310\\lib\\site-packages (from python-dateutil>=2.8.1->pandas) (1.16.0)\n",
      "Installing collected packages: pytz, pandas\n",
      "Successfully installed pandas-1.4.2 pytz-2022.1\n"
     ]
    },
    {
     "name": "stderr",
     "output_type": "stream",
     "text": [
      "WARNING: You are using pip version 22.0.4; however, version 22.1.1 is available.\n",
      "You should consider upgrading via the 'C:\\Program Files\\Python310\\python.exe -m pip install --upgrade pip' command.\n"
     ]
    }
   ],
   "source": [
    "!pip install pandas"
   ]
  },
  {
   "cell_type": "code",
   "execution_count": 7,
   "metadata": {},
   "outputs": [
    {
     "name": "stdout",
     "output_type": "stream",
     "text": [
      "Defaulting to user installation because normal site-packages is not writeable\n",
      "Collecting tensorflow\n",
      "  Downloading tensorflow-2.9.1-cp310-cp310-win_amd64.whl (444.1 MB)\n",
      "     ------------------------------------ 444.1/444.1 MB 814.8 kB/s eta 0:00:00\n",
      "Collecting tensorflow-io-gcs-filesystem>=0.23.1\n",
      "  Downloading tensorflow_io_gcs_filesystem-0.26.0-cp310-cp310-win_amd64.whl (1.5 MB)\n",
      "     ---------------------------------------- 1.5/1.5 MB 1.0 MB/s eta 0:00:00\n",
      "Collecting absl-py>=1.0.0\n",
      "  Downloading absl_py-1.0.0-py3-none-any.whl (126 kB)\n",
      "     -------------------------------------- 126.7/126.7 KB 1.1 MB/s eta 0:00:00\n",
      "Collecting tensorboard<2.10,>=2.9\n",
      "  Downloading tensorboard-2.9.0-py3-none-any.whl (5.8 MB)\n",
      "     ---------------------------------------- 5.8/5.8 MB 1.3 MB/s eta 0:00:00\n",
      "Requirement already satisfied: numpy>=1.20 in c:\\program files\\python310\\lib\\site-packages (from tensorflow) (1.22.2)\n",
      "Collecting keras<2.10.0,>=2.9.0rc0\n",
      "  Downloading keras-2.9.0-py2.py3-none-any.whl (1.6 MB)\n",
      "     ---------------------------------------- 1.6/1.6 MB 1.5 MB/s eta 0:00:00\n",
      "Collecting protobuf<3.20,>=3.9.2\n",
      "  Downloading protobuf-3.19.4-cp310-cp310-win_amd64.whl (895 kB)\n",
      "     -------------------------------------- 895.5/895.5 KB 1.3 MB/s eta 0:00:00\n",
      "Collecting gast<=0.4.0,>=0.2.1\n",
      "  Downloading gast-0.4.0-py3-none-any.whl (9.8 kB)\n",
      "Collecting flatbuffers<2,>=1.12\n",
      "  Downloading flatbuffers-1.12-py2.py3-none-any.whl (15 kB)\n",
      "Requirement already satisfied: packaging in c:\\program files\\python310\\lib\\site-packages (from tensorflow) (21.3)\n",
      "Collecting astunparse>=1.6.0\n",
      "  Downloading astunparse-1.6.3-py2.py3-none-any.whl (12 kB)\n",
      "Requirement already satisfied: six>=1.12.0 in c:\\program files\\python310\\lib\\site-packages (from tensorflow) (1.16.0)\n",
      "Collecting grpcio<2.0,>=1.24.3\n",
      "  Downloading grpcio-1.46.3-cp310-cp310-win_amd64.whl (3.5 MB)\n",
      "     ---------------------------------------- 3.5/3.5 MB 1.2 MB/s eta 0:00:00\n",
      "Collecting keras-preprocessing>=1.1.1\n",
      "  Downloading Keras_Preprocessing-1.1.2-py2.py3-none-any.whl (42 kB)\n",
      "     -------------------------------------- 42.6/42.6 KB 688.1 kB/s eta 0:00:00\n",
      "Collecting google-pasta>=0.1.1\n",
      "  Downloading google_pasta-0.2.0-py3-none-any.whl (57 kB)\n",
      "     ---------------------------------------- 57.5/57.5 KB 1.0 MB/s eta 0:00:00\n",
      "Collecting opt-einsum>=2.3.2\n",
      "  Downloading opt_einsum-3.3.0-py3-none-any.whl (65 kB)\n",
      "     ---------------------------------------- 65.5/65.5 KB 1.2 MB/s eta 0:00:00\n",
      "Requirement already satisfied: setuptools in c:\\program files\\python310\\lib\\site-packages (from tensorflow) (58.1.0)\n",
      "Collecting libclang>=13.0.0\n",
      "  Downloading libclang-14.0.1-py2.py3-none-win_amd64.whl (14.2 MB)\n",
      "     -------------------------------------- 14.2/14.2 MB 761.1 kB/s eta 0:00:00\n",
      "Collecting termcolor>=1.1.0\n",
      "  Downloading termcolor-1.1.0.tar.gz (3.9 kB)\n",
      "  Preparing metadata (setup.py): started\n",
      "  Preparing metadata (setup.py): finished with status 'done'\n",
      "Collecting h5py>=2.9.0\n",
      "  Downloading h5py-3.7.0-cp310-cp310-win_amd64.whl (2.6 MB)\n",
      "     ---------------------------------------- 2.6/2.6 MB 1.3 MB/s eta 0:00:00\n",
      "Collecting wrapt>=1.11.0\n",
      "  Downloading wrapt-1.14.1-cp310-cp310-win_amd64.whl (35 kB)\n",
      "Collecting tensorflow-estimator<2.10.0,>=2.9.0rc0\n",
      "  Downloading tensorflow_estimator-2.9.0-py2.py3-none-any.whl (438 kB)\n",
      "     ------------------------------------ 438.7/438.7 KB 913.5 kB/s eta 0:00:00\n",
      "Collecting typing-extensions>=3.6.6\n"
     ]
    },
    {
     "name": "stderr",
     "output_type": "stream",
     "text": [
      "  WARNING: The script wheel.exe is installed in 'C:\\Users\\taha2\\AppData\\Roaming\\Python\\Python310\\Scripts' which is not on PATH.\n",
      "  Consider adding this directory to PATH or, if you prefer to suppress this warning, use --no-warn-script-location.\n",
      "  WARNING: The scripts pyrsa-decrypt.exe, pyrsa-encrypt.exe, pyrsa-keygen.exe, pyrsa-priv2pub.exe, pyrsa-sign.exe and pyrsa-verify.exe are installed in 'C:\\Users\\taha2\\AppData\\Roaming\\Python\\Python310\\Scripts' which is not on PATH.\n",
      "  Consider adding this directory to PATH or, if you prefer to suppress this warning, use --no-warn-script-location.\n",
      "  WARNING: The script markdown_py.exe is installed in 'C:\\Users\\taha2\\AppData\\Roaming\\Python\\Python310\\Scripts' which is not on PATH.\n",
      "  Consider adding this directory to PATH or, if you prefer to suppress this warning, use --no-warn-script-location.\n",
      "  WARNING: The script normalizer.exe is installed in 'C:\\Users\\taha2\\AppData\\Roaming\\Python\\Python310\\Scripts' which is not on PATH.\n",
      "  Consider adding this directory to PATH or, if you prefer to suppress this warning, use --no-warn-script-location.\n",
      "  WARNING: The script google-oauthlib-tool.exe is installed in 'C:\\Users\\taha2\\AppData\\Roaming\\Python\\Python310\\Scripts' which is not on PATH.\n",
      "  Consider adding this directory to PATH or, if you prefer to suppress this warning, use --no-warn-script-location.\n",
      "  WARNING: The script tensorboard.exe is installed in 'C:\\Users\\taha2\\AppData\\Roaming\\Python\\Python310\\Scripts' which is not on PATH.\n",
      "  Consider adding this directory to PATH or, if you prefer to suppress this warning, use --no-warn-script-location.\n",
      "  WARNING: The scripts estimator_ckpt_converter.exe, import_pb_to_tensorboard.exe, saved_model_cli.exe, tensorboard.exe, tf_upgrade_v2.exe, tflite_convert.exe, toco.exe and toco_from_protos.exe are installed in 'C:\\Users\\taha2\\AppData\\Roaming\\Python\\Python310\\Scripts' which is not on PATH.\n",
      "  Consider adding this directory to PATH or, if you prefer to suppress this warning, use --no-warn-script-location.\n",
      "WARNING: You are using pip version 22.0.4; however, version 22.1.1 is available.\n",
      "You should consider upgrading via the 'C:\\Program Files\\Python310\\python.exe -m pip install --upgrade pip' command.\n"
     ]
    },
    {
     "name": "stdout",
     "output_type": "stream",
     "text": [
      "  Downloading typing_extensions-4.2.0-py3-none-any.whl (24 kB)\n",
      "Collecting wheel<1.0,>=0.23.0\n",
      "  Using cached wheel-0.37.1-py2.py3-none-any.whl (35 kB)\n",
      "Collecting google-auth<3,>=1.6.3\n",
      "  Downloading google_auth-2.6.6-py2.py3-none-any.whl (156 kB)\n",
      "     ------------------------------------ 156.7/156.7 KB 938.8 kB/s eta 0:00:00\n",
      "Collecting markdown>=2.6.8\n",
      "  Downloading Markdown-3.3.7-py3-none-any.whl (97 kB)\n",
      "     -------------------------------------- 97.8/97.8 KB 803.1 kB/s eta 0:00:00\n",
      "Collecting google-auth-oauthlib<0.5,>=0.4.1\n",
      "  Downloading google_auth_oauthlib-0.4.6-py2.py3-none-any.whl (18 kB)\n",
      "Collecting tensorboard-plugin-wit>=1.6.0\n",
      "  Downloading tensorboard_plugin_wit-1.8.1-py3-none-any.whl (781 kB)\n",
      "     -------------------------------------- 781.3/781.3 KB 1.1 MB/s eta 0:00:00\n",
      "Collecting werkzeug>=1.0.1\n",
      "  Downloading Werkzeug-2.1.2-py3-none-any.whl (224 kB)\n",
      "     -------------------------------------- 224.9/224.9 KB 1.1 MB/s eta 0:00:00\n",
      "Collecting tensorboard-data-server<0.7.0,>=0.6.0\n",
      "  Downloading tensorboard_data_server-0.6.1-py3-none-any.whl (2.4 kB)\n",
      "Collecting requests<3,>=2.21.0\n",
      "  Downloading requests-2.27.1-py2.py3-none-any.whl (63 kB)\n",
      "     ---------------------------------------- 63.1/63.1 KB 1.1 MB/s eta 0:00:00\n",
      "Requirement already satisfied: pyparsing!=3.0.5,>=2.0.2 in c:\\program files\\python310\\lib\\site-packages (from packaging->tensorflow) (3.0.7)\n",
      "Collecting cachetools<6.0,>=2.0.0\n",
      "  Downloading cachetools-5.1.0-py3-none-any.whl (9.2 kB)\n",
      "Collecting rsa<5,>=3.1.4\n",
      "  Downloading rsa-4.8-py3-none-any.whl (39 kB)\n",
      "Collecting pyasn1-modules>=0.2.1\n",
      "  Downloading pyasn1_modules-0.2.8-py2.py3-none-any.whl (155 kB)\n",
      "     -------------------------------------- 155.3/155.3 KB 1.2 MB/s eta 0:00:00\n",
      "Collecting requests-oauthlib>=0.7.0\n",
      "  Downloading requests_oauthlib-1.3.1-py2.py3-none-any.whl (23 kB)\n",
      "Collecting urllib3<1.27,>=1.21.1\n",
      "  Downloading urllib3-1.26.9-py2.py3-none-any.whl (138 kB)\n",
      "     -------------------------------------- 139.0/139.0 KB 1.2 MB/s eta 0:00:00\n",
      "Collecting idna<4,>=2.5\n",
      "  Downloading idna-3.3-py3-none-any.whl (61 kB)\n",
      "     ---------------------------------------- 61.2/61.2 KB 1.1 MB/s eta 0:00:00\n",
      "Collecting charset-normalizer~=2.0.0\n",
      "  Downloading charset_normalizer-2.0.12-py3-none-any.whl (39 kB)\n",
      "Collecting certifi>=2017.4.17\n",
      "  Downloading certifi-2022.5.18.1-py3-none-any.whl (155 kB)\n",
      "     -------------------------------------- 155.2/155.2 KB 1.3 MB/s eta 0:00:00\n",
      "Collecting pyasn1<0.5.0,>=0.4.6\n",
      "  Downloading pyasn1-0.4.8-py2.py3-none-any.whl (77 kB)\n",
      "     ---------------------------------------- 77.1/77.1 KB 1.4 MB/s eta 0:00:00\n",
      "Collecting oauthlib>=3.0.0\n",
      "  Downloading oauthlib-3.2.0-py3-none-any.whl (151 kB)\n",
      "     -------------------------------------- 151.5/151.5 KB 1.3 MB/s eta 0:00:00\n",
      "Using legacy 'setup.py install' for termcolor, since package 'wheel' is not installed.\n",
      "Installing collected packages: termcolor, tensorboard-plugin-wit, pyasn1, libclang, keras, flatbuffers, wrapt, wheel, werkzeug, urllib3, typing-extensions, tensorflow-io-gcs-filesystem, tensorflow-estimator, tensorboard-data-server, rsa, pyasn1-modules, protobuf, opt-einsum, oauthlib, markdown, keras-preprocessing, idna, h5py, grpcio, google-pasta, gast, charset-normalizer, certifi, cachetools, absl-py, requests, google-auth, astunparse, requests-oauthlib, google-auth-oauthlib, tensorboard, tensorflow\n",
      "  Running setup.py install for termcolor: started\n",
      "  Running setup.py install for termcolor: finished with status 'done'\n",
      "Successfully installed absl-py-1.0.0 astunparse-1.6.3 cachetools-5.1.0 certifi-2022.5.18.1 charset-normalizer-2.0.12 flatbuffers-1.12 gast-0.4.0 google-auth-2.6.6 google-auth-oauthlib-0.4.6 google-pasta-0.2.0 grpcio-1.46.3 h5py-3.7.0 idna-3.3 keras-2.9.0 keras-preprocessing-1.1.2 libclang-14.0.1 markdown-3.3.7 oauthlib-3.2.0 opt-einsum-3.3.0 protobuf-3.19.4 pyasn1-0.4.8 pyasn1-modules-0.2.8 requests-2.27.1 requests-oauthlib-1.3.1 rsa-4.8 tensorboard-2.9.0 tensorboard-data-server-0.6.1 tensorboard-plugin-wit-1.8.1 tensorflow-2.9.1 tensorflow-estimator-2.9.0 tensorflow-io-gcs-filesystem-0.26.0 termcolor-1.1.0 typing-extensions-4.2.0 urllib3-1.26.9 werkzeug-2.1.2 wheel-0.37.1 wrapt-1.14.1\n"
     ]
    }
   ],
   "source": [
    "!pip install tensorflow"
   ]
  },
  {
   "cell_type": "code",
   "execution_count": 1,
   "metadata": {
    "scrolled": true
   },
   "outputs": [
    {
     "name": "stdout",
     "output_type": "stream",
     "text": [
      "Defaulting to user installation because normal site-packages is not writeable\n",
      "Requirement already satisfied: object_detection in c:\\program files\\python310\\lib\\site-packages (0.1)\n",
      "Requirement already satisfied: pycocotools in c:\\program files\\python310\\lib\\site-packages (from object_detection) (2.0)\n",
      "Requirement already satisfied: matplotlib in c:\\program files\\python310\\lib\\site-packages (from object_detection) (3.5.1)\n",
      "Requirement already satisfied: tensorflow-io in c:\\program files\\python310\\lib\\site-packages (from object_detection) (0.26.0)\n",
      "Requirement already satisfied: lxml in c:\\users\\taha2\\appdata\\roaming\\python\\python310\\site-packages (from object_detection) (4.8.0)\n",
      "Requirement already satisfied: keras in c:\\users\\taha2\\appdata\\roaming\\python\\python310\\site-packages (from object_detection) (2.9.0)\n",
      "Requirement already satisfied: lvis in c:\\program files\\python310\\lib\\site-packages (from object_detection) (0.5.3)\n",
      "Requirement already satisfied: scipy in c:\\program files\\python310\\lib\\site-packages (from object_detection) (1.8.1)\n",
      "Requirement already satisfied: avro-python3 in c:\\program files\\python310\\lib\\site-packages (from object_detection) (1.10.2)\n",
      "Requirement already satisfied: tf-models-official>=2.5.1 in c:\\program files\\python310\\lib\\site-packages (from object_detection) (2.9.2)\n",
      "Requirement already satisfied: pyparsing==2.4.7 in c:\\program files\\python310\\lib\\site-packages (from object_detection) (2.4.7)\n",
      "Requirement already satisfied: pillow in c:\\program files\\python310\\lib\\site-packages (from object_detection) (9.0.1)\n",
      "Requirement already satisfied: six in c:\\program files\\python310\\lib\\site-packages (from object_detection) (1.16.0)\n",
      "Requirement already satisfied: Cython in c:\\users\\taha2\\appdata\\roaming\\python\\python310\\site-packages (from object_detection) (0.29.30)\n",
      "Requirement already satisfied: apache-beam in c:\\program files\\python310\\lib\\site-packages (from object_detection) (2.39.0)\n",
      "Requirement already satisfied: pandas in c:\\users\\taha2\\appdata\\roaming\\python\\python310\\site-packages (from object_detection) (1.4.2)\n",
      "Requirement already satisfied: contextlib2 in c:\\users\\taha2\\appdata\\roaming\\python\\python310\\site-packages (from object_detection) (21.6.0)\n",
      "Requirement already satisfied: tf-slim in c:\\program files\\python310\\lib\\site-packages (from object_detection) (1.1.0)\n",
      "Requirement already satisfied: sentencepiece in c:\\program files\\python310\\lib\\site-packages (from tf-models-official>=2.5.1->object_detection) (0.1.96)\n",
      "Requirement already satisfied: psutil>=5.4.3 in c:\\program files\\python310\\lib\\site-packages (from tf-models-official>=2.5.1->object_detection) (5.9.1)\n",
      "Requirement already satisfied: tensorflow-model-optimization>=0.4.1 in c:\\program files\\python310\\lib\\site-packages (from tf-models-official>=2.5.1->object_detection) (0.7.2)\n",
      "Requirement already satisfied: sacrebleu in c:\\program files\\python310\\lib\\site-packages (from tf-models-official>=2.5.1->object_detection) (2.1.0)\n",
      "Requirement already satisfied: py-cpuinfo>=3.3.0 in c:\\program files\\python310\\lib\\site-packages (from tf-models-official>=2.5.1->object_detection) (8.0.0)\n",
      "Requirement already satisfied: seqeval in c:\\program files\\python310\\lib\\site-packages (from tf-models-official>=2.5.1->object_detection) (1.2.2)\n",
      "Requirement already satisfied: tensorflow-hub>=0.6.0 in c:\\program files\\python310\\lib\\site-packages (from tf-models-official>=2.5.1->object_detection) (0.12.0)\n",
      "Requirement already satisfied: pyyaml<6.0,>=5.1 in c:\\program files\\python310\\lib\\site-packages (from tf-models-official>=2.5.1->object_detection) (5.4.1)\n",
      "Requirement already satisfied: google-api-python-client>=1.6.7 in c:\\program files\\python310\\lib\\site-packages (from tf-models-official>=2.5.1->object_detection) (2.49.0)\n",
      "Requirement already satisfied: tensorflow-addons in c:\\program files\\python310\\lib\\site-packages (from tf-models-official>=2.5.1->object_detection) (0.17.0)\n",
      "Requirement already satisfied: tensorflow-text~=2.9.0 in c:\\program files\\python310\\lib\\site-packages (from tf-models-official>=2.5.1->object_detection) (2.9.0)\n",
      "Requirement already satisfied: gin-config in c:\\program files\\python310\\lib\\site-packages (from tf-models-official>=2.5.1->object_detection) (0.5.0)\n",
      "Requirement already satisfied: tensorflow~=2.9.0 in c:\\users\\taha2\\appdata\\roaming\\python\\python310\\site-packages (from tf-models-official>=2.5.1->object_detection) (2.9.1)\n",
      "Requirement already satisfied: numpy>=1.20 in c:\\program files\\python310\\lib\\site-packages (from tf-models-official>=2.5.1->object_detection) (1.22.2)\n",
      "Requirement already satisfied: oauth2client in c:\\program files\\python310\\lib\\site-packages (from tf-models-official>=2.5.1->object_detection) (4.1.3)\n",
      "Requirement already satisfied: opencv-python-headless in c:\\program files\\python310\\lib\\site-packages (from tf-models-official>=2.5.1->object_detection) (4.5.5.64)\n",
      "Requirement already satisfied: kaggle>=1.3.9 in c:\\program files\\python310\\lib\\site-packages (from tf-models-official>=2.5.1->object_detection) (1.5.12)\n",
      "Requirement already satisfied: tensorflow-datasets in c:\\program files\\python310\\lib\\site-packages (from tf-models-official>=2.5.1->object_detection) (4.5.2)\n",
      "Requirement already satisfied: python-dateutil>=2.8.1 in c:\\program files\\python310\\lib\\site-packages (from pandas->object_detection) (2.8.2)\n",
      "Requirement already satisfied: pytz>=2020.1 in c:\\users\\taha2\\appdata\\roaming\\python\\python310\\site-packages (from pandas->object_detection) (2022.1)\n",
      "Requirement already satisfied: absl-py>=0.2.2 in c:\\users\\taha2\\appdata\\roaming\\python\\python310\\site-packages (from tf-slim->object_detection) (1.0.0)\n"
     ]
    },
    {
     "name": "stderr",
     "output_type": "stream",
     "text": [
      "WARNING: You are using pip version 22.0.4; however, version 22.1.1 is available.\n",
      "You should consider upgrading via the 'C:\\Program Files\\Python310\\python.exe -m pip install --upgrade pip' command.\n"
     ]
    },
    {
     "name": "stdout",
     "output_type": "stream",
     "text": [
      "Requirement already satisfied: typing-extensions>=3.7.0 in c:\\users\\taha2\\appdata\\roaming\\python\\python310\\site-packages (from apache-beam->object_detection) (4.2.0)\n",
      "Requirement already satisfied: proto-plus<2,>=1.7.1 in c:\\program files\\python310\\lib\\site-packages (from apache-beam->object_detection) (1.20.5)\n",
      "Requirement already satisfied: httplib2<0.20.0,>=0.8 in c:\\program files\\python310\\lib\\site-packages (from apache-beam->object_detection) (0.19.1)\n",
      "Requirement already satisfied: orjson<4.0 in c:\\program files\\python310\\lib\\site-packages (from apache-beam->object_detection) (3.6.8)\n",
      "Requirement already satisfied: protobuf<4,>=3.12.2 in c:\\users\\taha2\\appdata\\roaming\\python\\python310\\site-packages (from apache-beam->object_detection) (3.19.4)\n",
      "Requirement already satisfied: crcmod<2.0,>=1.7 in c:\\program files\\python310\\lib\\site-packages (from apache-beam->object_detection) (1.7)\n",
      "Requirement already satisfied: cloudpickle<3,>=2.0.0 in c:\\program files\\python310\\lib\\site-packages (from apache-beam->object_detection) (2.1.0)\n",
      "Requirement already satisfied: fastavro<2,>=0.23.6 in c:\\program files\\python310\\lib\\site-packages (from apache-beam->object_detection) (1.4.12)\n",
      "Requirement already satisfied: requests<3.0.0,>=2.24.0 in c:\\users\\taha2\\appdata\\roaming\\python\\python310\\site-packages (from apache-beam->object_detection) (2.27.1)\n",
      "Requirement already satisfied: pyarrow<8.0.0,>=0.15.1 in c:\\program files\\python310\\lib\\site-packages (from apache-beam->object_detection) (7.0.0)\n",
      "Requirement already satisfied: hdfs<3.0.0,>=2.1.0 in c:\\program files\\python310\\lib\\site-packages (from apache-beam->object_detection) (2.7.0)\n",
      "Requirement already satisfied: dill<0.3.2,>=0.3.1.1 in c:\\program files\\python310\\lib\\site-packages (from apache-beam->object_detection) (0.3.1.1)\n",
      "Requirement already satisfied: pydot<2,>=1.2.0 in c:\\program files\\python310\\lib\\site-packages (from apache-beam->object_detection) (1.4.2)\n",
      "Requirement already satisfied: pymongo<4.0.0,>=3.8.0 in c:\\program files\\python310\\lib\\site-packages (from apache-beam->object_detection) (3.12.3)\n",
      "Requirement already satisfied: grpcio<2,>=1.29.0 in c:\\users\\taha2\\appdata\\roaming\\python\\python310\\site-packages (from apache-beam->object_detection) (1.46.3)\n",
      "Requirement already satisfied: kiwisolver>=1.1.0 in c:\\program files\\python310\\lib\\site-packages (from lvis->object_detection) (1.3.2)\n",
      "Requirement already satisfied: cycler>=0.10.0 in c:\\program files\\python310\\lib\\site-packages (from lvis->object_detection) (0.11.0)\n",
      "Requirement already satisfied: opencv-python>=4.1.0.25 in c:\\users\\taha2\\appdata\\roaming\\python\\python310\\site-packages (from lvis->object_detection) (4.5.5.64)\n",
      "Requirement already satisfied: packaging>=20.0 in c:\\program files\\python310\\lib\\site-packages (from matplotlib->object_detection) (21.3)\n",
      "Requirement already satisfied: fonttools>=4.22.0 in c:\\program files\\python310\\lib\\site-packages (from matplotlib->object_detection) (4.29.1)\n",
      "Requirement already satisfied: tensorflow-io-gcs-filesystem==0.26.0 in c:\\users\\taha2\\appdata\\roaming\\python\\python310\\site-packages (from tensorflow-io->object_detection) (0.26.0)\n",
      "Requirement already satisfied: google-auth-httplib2>=0.1.0 in c:\\program files\\python310\\lib\\site-packages (from google-api-python-client>=1.6.7->tf-models-official>=2.5.1->object_detection) (0.1.0)\n",
      "Requirement already satisfied: google-auth<3.0.0dev,>=1.16.0 in c:\\users\\taha2\\appdata\\roaming\\python\\python310\\site-packages (from google-api-python-client>=1.6.7->tf-models-official>=2.5.1->object_detection) (2.6.6)\n",
      "Requirement already satisfied: google-api-core!=2.0.*,!=2.1.*,!=2.2.*,!=2.3.0,<3.0.0dev,>=1.31.5 in c:\\program files\\python310\\lib\\site-packages (from google-api-python-client>=1.6.7->tf-models-official>=2.5.1->object_detection) (2.8.1)\n",
      "Requirement already satisfied: uritemplate<5,>=3.0.1 in c:\\program files\\python310\\lib\\site-packages (from google-api-python-client>=1.6.7->tf-models-official>=2.5.1->object_detection) (4.1.1)\n",
      "Requirement already satisfied: docopt in c:\\program files\\python310\\lib\\site-packages (from hdfs<3.0.0,>=2.1.0->apache-beam->object_detection) (0.6.2)\n",
      "Requirement already satisfied: urllib3 in c:\\users\\taha2\\appdata\\roaming\\python\\python310\\site-packages (from kaggle>=1.3.9->tf-models-official>=2.5.1->object_detection) (1.26.9)\n",
      "Requirement already satisfied: python-slugify in c:\\program files\\python310\\lib\\site-packages (from kaggle>=1.3.9->tf-models-official>=2.5.1->object_detection) (6.1.2)\n",
      "Requirement already satisfied: tqdm in c:\\program files\\python310\\lib\\site-packages (from kaggle>=1.3.9->tf-models-official>=2.5.1->object_detection) (4.64.0)\n",
      "Requirement already satisfied: certifi in c:\\users\\taha2\\appdata\\roaming\\python\\python310\\site-packages (from kaggle>=1.3.9->tf-models-official>=2.5.1->object_detection) (2022.5.18.1)\n",
      "Requirement already satisfied: idna<4,>=2.5 in c:\\users\\taha2\\appdata\\roaming\\python\\python310\\site-packages (from requests<3.0.0,>=2.24.0->apache-beam->object_detection) (3.3)\n",
      "Requirement already satisfied: charset-normalizer~=2.0.0 in c:\\users\\taha2\\appdata\\roaming\\python\\python310\\site-packages (from requests<3.0.0,>=2.24.0->apache-beam->object_detection) (2.0.12)\n",
      "Requirement already satisfied: flatbuffers<2,>=1.12 in c:\\users\\taha2\\appdata\\roaming\\python\\python310\\site-packages (from tensorflow~=2.9.0->tf-models-official>=2.5.1->object_detection) (1.12)\n",
      "Requirement already satisfied: opt-einsum>=2.3.2 in c:\\users\\taha2\\appdata\\roaming\\python\\python310\\site-packages (from tensorflow~=2.9.0->tf-models-official>=2.5.1->object_detection) (3.3.0)\n",
      "Requirement already satisfied: termcolor>=1.1.0 in c:\\users\\taha2\\appdata\\roaming\\python\\python310\\site-packages (from tensorflow~=2.9.0->tf-models-official>=2.5.1->object_detection) (1.1.0)\n",
      "Requirement already satisfied: setuptools in c:\\program files\\python310\\lib\\site-packages (from tensorflow~=2.9.0->tf-models-official>=2.5.1->object_detection) (62.3.2)\n",
      "Requirement already satisfied: h5py>=2.9.0 in c:\\users\\taha2\\appdata\\roaming\\python\\python310\\site-packages (from tensorflow~=2.9.0->tf-models-official>=2.5.1->object_detection) (3.7.0)\n",
      "Requirement already satisfied: gast<=0.4.0,>=0.2.1 in c:\\users\\taha2\\appdata\\roaming\\python\\python310\\site-packages (from tensorflow~=2.9.0->tf-models-official>=2.5.1->object_detection) (0.4.0)\n",
      "Requirement already satisfied: google-pasta>=0.1.1 in c:\\users\\taha2\\appdata\\roaming\\python\\python310\\site-packages (from tensorflow~=2.9.0->tf-models-official>=2.5.1->object_detection) (0.2.0)\n",
      "Requirement already satisfied: keras-preprocessing>=1.1.1 in c:\\users\\taha2\\appdata\\roaming\\python\\python310\\site-packages (from tensorflow~=2.9.0->tf-models-official>=2.5.1->object_detection) (1.1.2)\n",
      "Requirement already satisfied: wrapt>=1.11.0 in c:\\users\\taha2\\appdata\\roaming\\python\\python310\\site-packages (from tensorflow~=2.9.0->tf-models-official>=2.5.1->object_detection) (1.14.1)\n",
      "Requirement already satisfied: tensorflow-estimator<2.10.0,>=2.9.0rc0 in c:\\users\\taha2\\appdata\\roaming\\python\\python310\\site-packages (from tensorflow~=2.9.0->tf-models-official>=2.5.1->object_detection) (2.9.0)\n",
      "Requirement already satisfied: tensorboard<2.10,>=2.9 in c:\\users\\taha2\\appdata\\roaming\\python\\python310\\site-packages (from tensorflow~=2.9.0->tf-models-official>=2.5.1->object_detection) (2.9.0)\n",
      "Requirement already satisfied: libclang>=13.0.0 in c:\\users\\taha2\\appdata\\roaming\\python\\python310\\site-packages (from tensorflow~=2.9.0->tf-models-official>=2.5.1->object_detection) (14.0.1)\n",
      "Requirement already satisfied: astunparse>=1.6.0 in c:\\users\\taha2\\appdata\\roaming\\python\\python310\\site-packages (from tensorflow~=2.9.0->tf-models-official>=2.5.1->object_detection) (1.6.3)\n",
      "Requirement already satisfied: dm-tree~=0.1.1 in c:\\program files\\python310\\lib\\site-packages (from tensorflow-model-optimization>=0.4.1->tf-models-official>=2.5.1->object_detection) (0.1.7)\n",
      "Requirement already satisfied: rsa>=3.1.4 in c:\\users\\taha2\\appdata\\roaming\\python\\python310\\site-packages (from oauth2client->tf-models-official>=2.5.1->object_detection) (4.8)\n",
      "Requirement already satisfied: pyasn1-modules>=0.0.5 in c:\\users\\taha2\\appdata\\roaming\\python\\python310\\site-packages (from oauth2client->tf-models-official>=2.5.1->object_detection) (0.2.8)\n",
      "Requirement already satisfied: pyasn1>=0.1.7 in c:\\users\\taha2\\appdata\\roaming\\python\\python310\\site-packages (from oauth2client->tf-models-official>=2.5.1->object_detection) (0.4.8)\n",
      "Requirement already satisfied: portalocker in c:\\program files\\python310\\lib\\site-packages (from sacrebleu->tf-models-official>=2.5.1->object_detection) (2.4.0)\n",
      "Requirement already satisfied: colorama in c:\\program files\\python310\\lib\\site-packages (from sacrebleu->tf-models-official>=2.5.1->object_detection) (0.4.4)\n",
      "Requirement already satisfied: tabulate>=0.8.9 in c:\\program files\\python310\\lib\\site-packages (from sacrebleu->tf-models-official>=2.5.1->object_detection) (0.8.9)\n",
      "Requirement already satisfied: regex in c:\\program files\\python310\\lib\\site-packages (from sacrebleu->tf-models-official>=2.5.1->object_detection) (2022.4.24)\n",
      "Requirement already satisfied: scikit-learn>=0.21.3 in c:\\program files\\python310\\lib\\site-packages (from seqeval->tf-models-official>=2.5.1->object_detection) (1.1.1)\n",
      "Requirement already satisfied: typeguard>=2.7 in c:\\program files\\python310\\lib\\site-packages (from tensorflow-addons->tf-models-official>=2.5.1->object_detection) (2.13.3)\n",
      "Requirement already satisfied: tensorflow-metadata in c:\\program files\\python310\\lib\\site-packages (from tensorflow-datasets->tf-models-official>=2.5.1->object_detection) (1.8.0)\n",
      "Requirement already satisfied: promise in c:\\program files\\python310\\lib\\site-packages (from tensorflow-datasets->tf-models-official>=2.5.1->object_detection) (2.3)\n",
      "Requirement already satisfied: wheel<1.0,>=0.23.0 in c:\\users\\taha2\\appdata\\roaming\\python\\python310\\site-packages (from astunparse>=1.6.0->tensorflow~=2.9.0->tf-models-official>=2.5.1->object_detection) (0.37.1)\n",
      "Requirement already satisfied: googleapis-common-protos<2.0dev,>=1.56.2 in c:\\program files\\python310\\lib\\site-packages (from google-api-core!=2.0.*,!=2.1.*,!=2.2.*,!=2.3.0,<3.0.0dev,>=1.31.5->google-api-python-client>=1.6.7->tf-models-official>=2.5.1->object_detection) (1.56.2)\n",
      "Requirement already satisfied: cachetools<6.0,>=2.0.0 in c:\\users\\taha2\\appdata\\roaming\\python\\python310\\site-packages (from google-auth<3.0.0dev,>=1.16.0->google-api-python-client>=1.6.7->tf-models-official>=2.5.1->object_detection) (5.1.0)\n",
      "Requirement already satisfied: joblib>=1.0.0 in c:\\program files\\python310\\lib\\site-packages (from scikit-learn>=0.21.3->seqeval->tf-models-official>=2.5.1->object_detection) (1.1.0)\n",
      "Requirement already satisfied: threadpoolctl>=2.0.0 in c:\\program files\\python310\\lib\\site-packages (from scikit-learn>=0.21.3->seqeval->tf-models-official>=2.5.1->object_detection) (3.1.0)\n",
      "Requirement already satisfied: tensorboard-plugin-wit>=1.6.0 in c:\\users\\taha2\\appdata\\roaming\\python\\python310\\site-packages (from tensorboard<2.10,>=2.9->tensorflow~=2.9.0->tf-models-official>=2.5.1->object_detection) (1.8.1)\n",
      "Requirement already satisfied: werkzeug>=1.0.1 in c:\\users\\taha2\\appdata\\roaming\\python\\python310\\site-packages (from tensorboard<2.10,>=2.9->tensorflow~=2.9.0->tf-models-official>=2.5.1->object_detection) (2.1.2)\n",
      "Requirement already satisfied: google-auth-oauthlib<0.5,>=0.4.1 in c:\\users\\taha2\\appdata\\roaming\\python\\python310\\site-packages (from tensorboard<2.10,>=2.9->tensorflow~=2.9.0->tf-models-official>=2.5.1->object_detection) (0.4.6)\n",
      "Requirement already satisfied: markdown>=2.6.8 in c:\\users\\taha2\\appdata\\roaming\\python\\python310\\site-packages (from tensorboard<2.10,>=2.9->tensorflow~=2.9.0->tf-models-official>=2.5.1->object_detection) (3.3.7)\n",
      "Requirement already satisfied: tensorboard-data-server<0.7.0,>=0.6.0 in c:\\users\\taha2\\appdata\\roaming\\python\\python310\\site-packages (from tensorboard<2.10,>=2.9->tensorflow~=2.9.0->tf-models-official>=2.5.1->object_detection) (0.6.1)\n",
      "Requirement already satisfied: pywin32>=226 in c:\\program files\\python310\\lib\\site-packages (from portalocker->sacrebleu->tf-models-official>=2.5.1->object_detection) (303)\n",
      "Requirement already satisfied: text-unidecode>=1.3 in c:\\program files\\python310\\lib\\site-packages (from python-slugify->kaggle>=1.3.9->tf-models-official>=2.5.1->object_detection) (1.3)\n",
      "Requirement already satisfied: requests-oauthlib>=0.7.0 in c:\\users\\taha2\\appdata\\roaming\\python\\python310\\site-packages (from google-auth-oauthlib<0.5,>=0.4.1->tensorboard<2.10,>=2.9->tensorflow~=2.9.0->tf-models-official>=2.5.1->object_detection) (1.3.1)\n",
      "Requirement already satisfied: oauthlib>=3.0.0 in c:\\users\\taha2\\appdata\\roaming\\python\\python310\\site-packages (from requests-oauthlib>=0.7.0->google-auth-oauthlib<0.5,>=0.4.1->tensorboard<2.10,>=2.9->tensorflow~=2.9.0->tf-models-official>=2.5.1->object_detection) (3.2.0)\n"
     ]
    }
   ],
   "source": [
    "!pip install object_detection"
   ]
  },
  {
   "cell_type": "code",
   "execution_count": 2,
   "metadata": {},
   "outputs": [],
   "source": [
    "WORKSPACE_PATH = 'Tensorflow/workspace'\n",
    "SCRIPTS_PATH = 'Tensorflow/scripts'\n",
    "APIMODEL_PATH = 'Tensorflow/models'\n",
    "ANNOTATION_PATH = WORKSPACE_PATH+'/annotations'\n",
    "IMAGE_PATH = WORKSPACE_PATH+'/images'\n",
    "MODEL_PATH = WORKSPACE_PATH+'/models'\n",
    "PRETRAINED_MODEL_PATH = WORKSPACE_PATH+'/pre-trained-models'\n",
    "CONFIG_PATH = MODEL_PATH+'/my_ssd_mobnet/pipeline.config'\n",
    "CHECKPOINT_PATH = MODEL_PATH+'/my_ssd_mobnet/'"
   ]
  },
  {
   "cell_type": "markdown",
   "metadata": {},
   "source": [
    "# 1. Create Label Map"
   ]
  },
  {
   "cell_type": "code",
   "execution_count": 3,
   "metadata": {},
   "outputs": [],
   "source": [
    "labels = [\n",
    "    {'name':'Peace', 'id':1},\n",
    "    {'name':'I Like It', 'id':2},\n",
    "    {'name':'Loved It', 'id':3},\n",
    "    {'name':'Awesome', 'id':4},\n",
    "    {'name':'BroCode', 'id':5}\n",
    "]\n",
    "\n",
    "with open(ANNOTATION_PATH + '\\label_map.pbtxt', 'w') as f:\n",
    "    for label in labels:\n",
    "        f.write('item { \\n')\n",
    "        f.write('\\tname:\\'{}\\'\\n'.format(label['name']))\n",
    "        f.write('\\tid:{}\\n'.format(label['id']))\n",
    "        f.write('}\\n')"
   ]
  },
  {
   "cell_type": "markdown",
   "metadata": {},
   "source": [
    "# 2. Create TF records"
   ]
  },
  {
   "cell_type": "code",
   "execution_count": 4,
   "metadata": {},
   "outputs": [
    {
     "name": "stdout",
     "output_type": "stream",
     "text": [
      "Successfully created the TFRecord file: Tensorflow/workspace/annotations/train.record\n",
      "Successfully created the TFRecord file: Tensorflow/workspace/annotations/test.record\n"
     ]
    }
   ],
   "source": [
    "!python {SCRIPTS_PATH + '/generate_tfrecord.py'} -x {IMAGE_PATH + '/train'} -l {ANNOTATION_PATH + '/label_map.pbtxt'} -o {ANNOTATION_PATH + '/train.record'}\n",
    "!python {SCRIPTS_PATH + '/generate_tfrecord.py'} -x{IMAGE_PATH + '/test'} -l {ANNOTATION_PATH + '/label_map.pbtxt'} -o {ANNOTATION_PATH + '/test.record'}"
   ]
  },
  {
   "cell_type": "markdown",
   "metadata": {},
   "source": [
    "# 3. Download TF Models Pretrained Models from Tensorflow Model Zoo"
   ]
  },
  {
   "cell_type": "code",
   "execution_count": 21,
   "metadata": {},
   "outputs": [
    {
     "name": "stdout",
     "output_type": "stream",
     "text": [
      "^C\n"
     ]
    }
   ],
   "source": [
    "!cd Tensorflow && git clone https://github.com/tensorflow/models"
   ]
  },
  {
   "cell_type": "code",
   "execution_count": 22,
   "metadata": {},
   "outputs": [],
   "source": [
    "#wget.download('http://download.tensorflow.org/models/object_detection/tf2/20200711/ssd_mobilenet_v2_fpnlite_320x320_coco17_tpu-8.tar.gz')\n",
    "#!mv ssd_mobilenet_v2_fpnlite_320x320_coco17_tpu-8.tar.gz {PRETRAINED_MODEL_PATH}\n",
    "#!cd {PRETRAINED_MODEL_PATH} && tar -zxvf ssd_mobilenet_v2_fpnlite_320x320_coco17_tpu-8.tar.gz"
   ]
  },
  {
   "cell_type": "markdown",
   "metadata": {},
   "source": [
    "# 4. Copy Model Config to Training Folder"
   ]
  },
  {
   "cell_type": "code",
   "execution_count": 8,
   "metadata": {},
   "outputs": [],
   "source": [
    "CUSTOM_MODEL_NAME = 'my_ssd_mobnet' "
   ]
  },
  {
   "cell_type": "code",
   "execution_count": 5,
   "metadata": {},
   "outputs": [
    {
     "name": "stdout",
     "output_type": "stream",
     "text": [
      "The system cannot find the file specified.\n"
     ]
    }
   ],
   "source": [
    "!mkdir {'Tensorflow\\workspace\\models\\\\'+CUSTOM_MODEL_NAME}\n",
    "!copy {PRETRAINED_MODEL_PATH+'/ssd_mobilenet_v2_fpnlite_320x320_coco17_tpu-8/pipeline.config'} {MODEL_PATH+'/'+CUSTOM_MODEL_NAME}"
   ]
  },
  {
   "cell_type": "markdown",
   "metadata": {},
   "source": [
    "# 5. Update Config For Transfer Learning"
   ]
  },
  {
   "cell_type": "code",
   "execution_count": 6,
   "metadata": {},
   "outputs": [],
   "source": [
    "import tensorflow as tf\n",
    "from object_detection.utils import config_util\n",
    "from object_detection.protos import pipeline_pb2\n",
    "from google.protobuf import text_format"
   ]
  },
  {
   "cell_type": "code",
   "execution_count": 9,
   "metadata": {},
   "outputs": [],
   "source": [
    "CONFIG_PATH = MODEL_PATH+'/'+CUSTOM_MODEL_NAME+'/pipeline.config'"
   ]
  },
  {
   "cell_type": "code",
   "execution_count": 10,
   "metadata": {},
   "outputs": [],
   "source": [
    "config = config_util.get_configs_from_pipeline_file(CONFIG_PATH)"
   ]
  },
  {
   "cell_type": "code",
   "execution_count": 11,
   "metadata": {},
   "outputs": [
    {
     "data": {
      "text/plain": [
       "{'model': ssd {\n",
       "   num_classes: 5\n",
       "   image_resizer {\n",
       "     fixed_shape_resizer {\n",
       "       height: 320\n",
       "       width: 320\n",
       "     }\n",
       "   }\n",
       "   feature_extractor {\n",
       "     type: \"ssd_mobilenet_v2_fpn_keras\"\n",
       "     depth_multiplier: 1.0\n",
       "     min_depth: 16\n",
       "     conv_hyperparams {\n",
       "       regularizer {\n",
       "         l2_regularizer {\n",
       "           weight: 3.9999998989515007e-05\n",
       "         }\n",
       "       }\n",
       "       initializer {\n",
       "         random_normal_initializer {\n",
       "           mean: 0.0\n",
       "           stddev: 0.009999999776482582\n",
       "         }\n",
       "       }\n",
       "       activation: RELU_6\n",
       "       batch_norm {\n",
       "         decay: 0.996999979019165\n",
       "         scale: true\n",
       "         epsilon: 0.0010000000474974513\n",
       "       }\n",
       "     }\n",
       "     use_depthwise: true\n",
       "     override_base_feature_extractor_hyperparams: true\n",
       "     fpn {\n",
       "       min_level: 3\n",
       "       max_level: 7\n",
       "       additional_layer_depth: 128\n",
       "     }\n",
       "   }\n",
       "   box_coder {\n",
       "     faster_rcnn_box_coder {\n",
       "       y_scale: 10.0\n",
       "       x_scale: 10.0\n",
       "       height_scale: 5.0\n",
       "       width_scale: 5.0\n",
       "     }\n",
       "   }\n",
       "   matcher {\n",
       "     argmax_matcher {\n",
       "       matched_threshold: 0.5\n",
       "       unmatched_threshold: 0.5\n",
       "       ignore_thresholds: false\n",
       "       negatives_lower_than_unmatched: true\n",
       "       force_match_for_each_row: true\n",
       "       use_matmul_gather: true\n",
       "     }\n",
       "   }\n",
       "   similarity_calculator {\n",
       "     iou_similarity {\n",
       "     }\n",
       "   }\n",
       "   box_predictor {\n",
       "     weight_shared_convolutional_box_predictor {\n",
       "       conv_hyperparams {\n",
       "         regularizer {\n",
       "           l2_regularizer {\n",
       "             weight: 3.9999998989515007e-05\n",
       "           }\n",
       "         }\n",
       "         initializer {\n",
       "           random_normal_initializer {\n",
       "             mean: 0.0\n",
       "             stddev: 0.009999999776482582\n",
       "           }\n",
       "         }\n",
       "         activation: RELU_6\n",
       "         batch_norm {\n",
       "           decay: 0.996999979019165\n",
       "           scale: true\n",
       "           epsilon: 0.0010000000474974513\n",
       "         }\n",
       "       }\n",
       "       depth: 128\n",
       "       num_layers_before_predictor: 4\n",
       "       kernel_size: 3\n",
       "       class_prediction_bias_init: -4.599999904632568\n",
       "       share_prediction_tower: true\n",
       "       use_depthwise: true\n",
       "     }\n",
       "   }\n",
       "   anchor_generator {\n",
       "     multiscale_anchor_generator {\n",
       "       min_level: 3\n",
       "       max_level: 7\n",
       "       anchor_scale: 4.0\n",
       "       aspect_ratios: 1.0\n",
       "       aspect_ratios: 2.0\n",
       "       aspect_ratios: 0.5\n",
       "       scales_per_octave: 2\n",
       "     }\n",
       "   }\n",
       "   post_processing {\n",
       "     batch_non_max_suppression {\n",
       "       score_threshold: 9.99999993922529e-09\n",
       "       iou_threshold: 0.6000000238418579\n",
       "       max_detections_per_class: 100\n",
       "       max_total_detections: 100\n",
       "       use_static_shapes: false\n",
       "     }\n",
       "     score_converter: SIGMOID\n",
       "   }\n",
       "   normalize_loss_by_num_matches: true\n",
       "   loss {\n",
       "     localization_loss {\n",
       "       weighted_smooth_l1 {\n",
       "       }\n",
       "     }\n",
       "     classification_loss {\n",
       "       weighted_sigmoid_focal {\n",
       "         gamma: 2.0\n",
       "         alpha: 0.25\n",
       "       }\n",
       "     }\n",
       "     classification_weight: 1.0\n",
       "     localization_weight: 1.0\n",
       "   }\n",
       "   encode_background_as_zeros: true\n",
       "   normalize_loc_loss_by_codesize: true\n",
       "   inplace_batchnorm_update: true\n",
       "   freeze_batchnorm: false\n",
       " },\n",
       " 'train_config': batch_size: 4\n",
       " data_augmentation_options {\n",
       "   random_horizontal_flip {\n",
       "   }\n",
       " }\n",
       " data_augmentation_options {\n",
       "   random_crop_image {\n",
       "     min_object_covered: 0.0\n",
       "     min_aspect_ratio: 0.75\n",
       "     max_aspect_ratio: 3.0\n",
       "     min_area: 0.75\n",
       "     max_area: 1.0\n",
       "     overlap_thresh: 0.0\n",
       "   }\n",
       " }\n",
       " sync_replicas: true\n",
       " optimizer {\n",
       "   momentum_optimizer {\n",
       "     learning_rate {\n",
       "       cosine_decay_learning_rate {\n",
       "         learning_rate_base: 0.07999999821186066\n",
       "         total_steps: 50000\n",
       "         warmup_learning_rate: 0.026666000485420227\n",
       "         warmup_steps: 1000\n",
       "       }\n",
       "     }\n",
       "     momentum_optimizer_value: 0.8999999761581421\n",
       "   }\n",
       "   use_moving_average: false\n",
       " }\n",
       " fine_tune_checkpoint: \"Tensorflow/workspace/pre-trained-models/ssd_mobilenet_v2_fpnlite_320x320_coco17_tpu-8/checkpoint/ckpt-0\"\n",
       " num_steps: 50000\n",
       " startup_delay_steps: 0.0\n",
       " replicas_to_aggregate: 8\n",
       " max_number_of_boxes: 100\n",
       " unpad_groundtruth_tensors: false\n",
       " fine_tune_checkpoint_type: \"detection\"\n",
       " fine_tune_checkpoint_version: V2,\n",
       " 'train_input_config': label_map_path: \"Tensorflow/workspace/annotations/label_map.pbtxt\"\n",
       " tf_record_input_reader {\n",
       "   input_path: \"Tensorflow/workspace/annotations/train.record\"\n",
       " },\n",
       " 'eval_config': metrics_set: \"coco_detection_metrics\"\n",
       " use_moving_averages: false,\n",
       " 'eval_input_configs': [label_map_path: \"Tensorflow/workspace/annotations/label_map.pbtxt\"\n",
       " shuffle: false\n",
       " num_epochs: 1\n",
       " tf_record_input_reader {\n",
       "   input_path: \"Tensorflow/workspace/annotations/test.record\"\n",
       " }\n",
       " ],\n",
       " 'eval_input_config': label_map_path: \"Tensorflow/workspace/annotations/label_map.pbtxt\"\n",
       " shuffle: false\n",
       " num_epochs: 1\n",
       " tf_record_input_reader {\n",
       "   input_path: \"Tensorflow/workspace/annotations/test.record\"\n",
       " }}"
      ]
     },
     "execution_count": 11,
     "metadata": {},
     "output_type": "execute_result"
    }
   ],
   "source": [
    "config"
   ]
  },
  {
   "cell_type": "code",
   "execution_count": 12,
   "metadata": {},
   "outputs": [],
   "source": [
    "pipeline_config = pipeline_pb2.TrainEvalPipelineConfig()\n",
    "with tf.io.gfile.GFile(CONFIG_PATH, \"r\") as f:                                                                                                                                                                                                                     \n",
    "    proto_str = f.read()                                                                                                                                                                                                                                          \n",
    "    text_format.Merge(proto_str, pipeline_config)  "
   ]
  },
  {
   "cell_type": "code",
   "execution_count": 13,
   "metadata": {},
   "outputs": [],
   "source": [
    "pipeline_config.model.ssd.num_classes = 5\n",
    "pipeline_config.train_config.batch_size = 4\n",
    "pipeline_config.train_config.fine_tune_checkpoint = PRETRAINED_MODEL_PATH+'/ssd_mobilenet_v2_fpnlite_320x320_coco17_tpu-8/checkpoint/ckpt-0'\n",
    "pipeline_config.train_config.fine_tune_checkpoint_type = \"detection\"\n",
    "pipeline_config.train_input_reader.label_map_path= ANNOTATION_PATH + '/label_map.pbtxt'\n",
    "pipeline_config.train_input_reader.tf_record_input_reader.input_path[:] = [ANNOTATION_PATH + '/train.record']\n",
    "pipeline_config.eval_input_reader[0].label_map_path = ANNOTATION_PATH + '/label_map.pbtxt'\n",
    "pipeline_config.eval_input_reader[0].tf_record_input_reader.input_path[:] = [ANNOTATION_PATH + '/test.record']"
   ]
  },
  {
   "cell_type": "code",
   "execution_count": 14,
   "metadata": {},
   "outputs": [],
   "source": [
    "config_text = text_format.MessageToString(pipeline_config)                                                                                                                                                                                                        \n",
    "with tf.io.gfile.GFile(CONFIG_PATH, \"wb\") as f:                                                                                                                                                                                                                     \n",
    "    f.write(config_text)   "
   ]
  },
  {
   "cell_type": "markdown",
   "metadata": {},
   "source": [
    "# 6. Train the model"
   ]
  },
  {
   "cell_type": "code",
   "execution_count": 15,
   "metadata": {},
   "outputs": [
    {
     "name": "stdout",
     "output_type": "stream",
     "text": [
      "python Tensorflow/models/research/object_detection/model_main_tf2.py --model_dir=Tensorflow/workspace/models/my_ssd_mobnet --pipeline_config_path=Tensorflow/workspace/models/my_ssd_mobnet/pipeline.config --num_train_steps=20000\n"
     ]
    }
   ],
   "source": [
    "print(\"\"\"python {}/research/object_detection/model_main_tf2.py --model_dir={}/{} --pipeline_config_path={}/{}/pipeline.config --num_train_steps=20000\"\"\".format(APIMODEL_PATH, MODEL_PATH,CUSTOM_MODEL_NAME,MODEL_PATH,CUSTOM_MODEL_NAME))"
   ]
  },
  {
   "cell_type": "markdown",
   "metadata": {},
   "source": [
    "# 7. Load Train Model From Checkpoint"
   ]
  },
  {
   "cell_type": "code",
   "execution_count": 16,
   "metadata": {},
   "outputs": [],
   "source": [
    "import os\n",
    "from object_detection.utils import label_map_util\n",
    "from object_detection.utils import visualization_utils as viz_utils\n",
    "from object_detection.builders import model_builder"
   ]
  },
  {
   "cell_type": "code",
   "execution_count": 17,
   "metadata": {},
   "outputs": [],
   "source": [
    "# Load pipeline config and build a detection model\n",
    "configs = config_util.get_configs_from_pipeline_file(CONFIG_PATH)\n",
    "detection_model = model_builder.build(model_config=configs['model'], is_training=False)\n",
    "\n",
    "# Restore checkpoint\n",
    "ckpt = tf.compat.v2.train.Checkpoint(model=detection_model)\n",
    "ckpt.restore(os.path.join(CHECKPOINT_PATH, 'ckpt-14')).expect_partial()\n",
    "\n",
    "@tf.function\n",
    "def detect_fn(image):\n",
    "    image, shapes = detection_model.preprocess(image)\n",
    "    prediction_dict = detection_model.predict(image, shapes)\n",
    "    detections = detection_model.postprocess(prediction_dict, shapes)\n",
    "    return detections"
   ]
  },
  {
   "cell_type": "markdown",
   "metadata": {},
   "source": [
    "# 8. Detect in Real-Time"
   ]
  },
  {
   "cell_type": "code",
   "execution_count": 18,
   "metadata": {},
   "outputs": [],
   "source": [
    "import cv2 \n",
    "import numpy as np"
   ]
  },
  {
   "cell_type": "code",
   "execution_count": 19,
   "metadata": {},
   "outputs": [],
   "source": [
    "category_index = label_map_util.create_category_index_from_labelmap(ANNOTATION_PATH+'/label_map.pbtxt')"
   ]
  },
  {
   "cell_type": "code",
   "execution_count": 20,
   "metadata": {},
   "outputs": [],
   "source": [
    "# Setup capture\n",
    "cap = cv2.VideoCapture(0)\n",
    "width = int(cap.get(cv2.CAP_PROP_FRAME_WIDTH))\n",
    "height = int(cap.get(cv2.CAP_PROP_FRAME_HEIGHT))"
   ]
  },
  {
   "cell_type": "code",
   "execution_count": null,
   "metadata": {},
   "outputs": [],
   "source": [
    "while True: \n",
    "    ret, frame = cap.read()\n",
    "    image_np = np.array(frame)\n",
    "    \n",
    "    input_tensor = tf.convert_to_tensor(np.expand_dims(image_np, 0), dtype=tf.float32)\n",
    "    detections = detect_fn(input_tensor)\n",
    "    \n",
    "    num_detections = int(detections.pop('num_detections'))\n",
    "    detections = {key: value[0, :num_detections].numpy()\n",
    "                  for key, value in detections.items()}\n",
    "    detections['num_detections'] = num_detections\n",
    "\n",
    "    # detection_classes should be ints.\n",
    "    detections['detection_classes'] = detections['detection_classes'].astype(np.int64)\n",
    "\n",
    "    label_id_offset = 1\n",
    "    image_np_with_detections = image_np.copy()\n",
    "\n",
    "    viz_utils.visualize_boxes_and_labels_on_image_array(\n",
    "                image_np_with_detections,\n",
    "                detections['detection_boxes'],\n",
    "                detections['detection_classes']+label_id_offset,\n",
    "                detections['detection_scores'],\n",
    "                category_index,\n",
    "                use_normalized_coordinates=True,\n",
    "                max_boxes_to_draw=5,\n",
    "                min_score_thresh=.5,\n",
    "                agnostic_mode=False)\n",
    "\n",
    "    cv2.imshow('object detection',  cv2.resize(image_np_with_detections, (800, 600)))\n",
    "    \n",
    "    if cv2.waitKey(1) & 0xFF == ord('q'):\n",
    "        cap.release()\n",
    "        break"
   ]
  },
  {
   "cell_type": "code",
   "execution_count": null,
   "metadata": {},
   "outputs": [],
   "source": [
    "detections = detect_fn(input_tensor)"
   ]
  },
  {
   "cell_type": "code",
   "execution_count": null,
   "metadata": {},
   "outputs": [],
   "source": [
    "from matplotlib import pyplot as plt"
   ]
  },
  {
   "cell_type": "code",
   "execution_count": null,
   "metadata": {},
   "outputs": [],
   "source": []
  }
 ],
 "metadata": {
  "kernelspec": {
   "display_name": "Python 3 (ipykernel)",
   "language": "python",
   "name": "python3"
  },
  "language_info": {
   "codemirror_mode": {
    "name": "ipython",
    "version": 3
   },
   "file_extension": ".py",
   "mimetype": "text/x-python",
   "name": "python",
   "nbconvert_exporter": "python",
   "pygments_lexer": "ipython3",
   "version": "3.10.2"
  }
 },
 "nbformat": 4,
 "nbformat_minor": 2
}
